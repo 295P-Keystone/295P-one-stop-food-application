{
 "cells": [
  {
   "cell_type": "code",
   "execution_count": 1,
   "id": "a34349e9-7e7e-45f0-9cb6-e40c58043dcf",
   "metadata": {},
   "outputs": [],
   "source": [
    "import pandas as pd\n",
    "import numpy as np\n",
    "import time\n",
    "import tensorflow as tf\n",
    "import os\n",
    "import matplotlib.pyplot as plt\n",
    "import PIL\n",
    "import seaborn as sns\n",
    "from tensorflow.keras.preprocessing.image import ImageDataGenerator\n",
    "from tensorflow.keras.applications.resnet50 import ResNet50\n",
    "from tensorflow.keras.applications.inception_resnet_v2 import InceptionResNetV2\n",
    "from tensorflow.keras.layers import *\n",
    "from tensorflow.keras.models import Model, load_model\n",
    "from tensorflow.keras.initializers import glorot_uniform\n",
    "from tensorflow.keras.utils import plot_model\n",
    "from IPython.display import display\n",
    "from tensorflow.keras import backend as K\n",
    "from tensorflow.keras.optimizers import SGD\n",
    "from tensorflow.keras.preprocessing.image import ImageDataGenerator\n",
    "from tensorflow.keras.callbacks import ReduceLROnPlateau, EarlyStopping, ModelCheckpoint, LearningRateScheduler"
   ]
  },
  {
   "cell_type": "code",
   "execution_count": 2,
   "id": "6e89f552-8931-442e-b6d8-8db256be65f3",
   "metadata": {},
   "outputs": [
    {
     "name": "stderr",
     "output_type": "stream",
     "text": [
      "2022-03-16 01:24:19.335442: I tensorflow/core/common_runtime/process_util.cc:146] Creating new thread pool with default inter op setting: 2. Tune using inter_op_parallelism_threads for best performance.\n"
     ]
    },
    {
     "name": "stdout",
     "output_type": "stream",
     "text": [
      "Downloading data from https://storage.googleapis.com/tensorflow/keras-applications/inception_resnet_v2/inception_resnet_v2_weights_tf_dim_ordering_tf_kernels_notop.h5\n",
      "219062272/219055592 [==============================] - 1s 0us/step\n",
      "219070464/219055592 [==============================] - 1s 0us/step\n"
     ]
    }
   ],
   "source": [
    "basemodel = InceptionResNetV2(weights='imagenet',include_top=False,input_tensor=Input(shape=(256,256,3)))"
   ]
  },
  {
   "cell_type": "code",
   "execution_count": 3,
   "id": "ff508bde-29c2-4a7e-b8ec-d0dc3c34f1f2",
   "metadata": {},
   "outputs": [],
   "source": [
    "basemodel.trainable = False\n",
    "headmodel = basemodel.output\n",
    "headmodel = GlobalAveragePooling2D(name='global_average_pool')(headmodel)\n",
    "headmodel = Flatten(name='flatten')(headmodel)\n",
    "headmodel = Dense(256,activation='relu',name='dense_1')(headmodel)\n",
    "headmodel = Dropout(0.3)(headmodel)\n",
    "headmodel = Dense(128,activation='relu',name='dense_2')(headmodel)\n",
    "headmodel = Dropout(0.3)(headmodel)\n",
    "headmodel = Dense(5,activation='softmax',name='dense_3')(headmodel)\n",
    "\n",
    "model = Model(inputs=basemodel.input,outputs=headmodel)"
   ]
  },
  {
   "cell_type": "code",
   "execution_count": 4,
   "id": "fc13828a-3ac4-4dde-a6a8-802a1b0d6220",
   "metadata": {},
   "outputs": [],
   "source": [
    "# Loads the weights\n",
    "model.load_weights(\"weights.hdf5\")"
   ]
  },
  {
   "cell_type": "code",
   "execution_count": 5,
   "id": "bcc65b84-5a8f-4f45-87cd-5e367c7dbbc8",
   "metadata": {},
   "outputs": [],
   "source": [
    "labels = ['chicken_wings','chocolate_cake','dumplings','french_fries','guacamole']"
   ]
  },
  {
   "cell_type": "code",
   "execution_count": 6,
   "id": "50737f92-ac22-4f30-8086-b49022383e5b",
   "metadata": {},
   "outputs": [],
   "source": [
    "def predict_image(image_path):\n",
    "    new_data_folder = './food_dataset_split'\n",
    "    #code to open the image\n",
    "    img= PIL.Image.open(image_path)\n",
    "    #resizing the image to (256,256)\n",
    "    img = img.resize((256,256))\n",
    "    #converting image to array\n",
    "    img = np.asarray(img, dtype= np.float32)\n",
    "    #normalizing the image\n",
    "    img = img / 255\n",
    "    #reshaping the image in to a 4D array\n",
    "    img = img.reshape(-1,256,256,3)\n",
    "    #making prediction of the model\n",
    "    predict = model.predict(img)\n",
    "    #getting the index corresponding to the highest value in the prediction\n",
    "    predict = np.argmax(predict)\n",
    "    return labels[predict]"
   ]
  },
  {
   "cell_type": "code",
   "execution_count": 29,
   "id": "279dbec1-fe41-47bf-a740-6355f5bdb634",
   "metadata": {},
   "outputs": [
    {
     "data": {
      "application/vnd.jupyter.widget-view+json": {
       "model_id": "c489e116b9c846ee9e80e7dcb2b4bac2",
       "version_major": 2,
       "version_minor": 0
      },
      "text/plain": [
       "FileUpload(value={}, description='Upload')"
      ]
     },
     "metadata": {},
     "output_type": "display_data"
    }
   ],
   "source": [
    "from ipywidgets import FileUpload\n",
    "upload1 = FileUpload()\n",
    "upload1"
   ]
  },
  {
   "cell_type": "code",
   "execution_count": 30,
   "id": "aed924b3-ba09-45c2-aa92-62c96ba303bd",
   "metadata": {},
   "outputs": [
    {
     "data": {
      "text/plain": [
       "'chicken_wings'"
      ]
     },
     "execution_count": 30,
     "metadata": {},
     "output_type": "execute_result"
    }
   ],
   "source": [
    "with open(\"demo/image1.jpg\", \"w+b\") as i:\n",
    "    i.write(upload1.data[0])\n",
    "predict_image(\"demo/image1.jpg\")"
   ]
  },
  {
   "cell_type": "code",
   "execution_count": 31,
   "id": "8f4f0f78-867a-4a39-a9a9-6a75568558b1",
   "metadata": {},
   "outputs": [
    {
     "data": {
      "application/vnd.jupyter.widget-view+json": {
       "model_id": "50f08637b0ca44fda1bfb5efd3a87a51",
       "version_major": 2,
       "version_minor": 0
      },
      "text/plain": [
       "FileUpload(value={}, description='Upload')"
      ]
     },
     "metadata": {},
     "output_type": "display_data"
    }
   ],
   "source": [
    "from ipywidgets import FileUpload\n",
    "upload2 = FileUpload()\n",
    "upload2"
   ]
  },
  {
   "cell_type": "code",
   "execution_count": 32,
   "id": "7e3b9c08-5efd-45b7-bd44-2379c45ebc0c",
   "metadata": {},
   "outputs": [
    {
     "data": {
      "text/plain": [
       "'french_fries'"
      ]
     },
     "execution_count": 32,
     "metadata": {},
     "output_type": "execute_result"
    }
   ],
   "source": [
    "with open(\"demo/image2.jpg\", \"w+b\") as i:\n",
    "    i.write(upload2.data[0])\n",
    "predict_image(\"demo/image2.jpg\")"
   ]
  },
  {
   "cell_type": "code",
   "execution_count": 23,
   "id": "949057b4-dfe5-4a6f-a1b9-e7336b993043",
   "metadata": {},
   "outputs": [
    {
     "data": {
      "application/vnd.jupyter.widget-view+json": {
       "model_id": "88471a9526a94c90adad1c4ac83368dc",
       "version_major": 2,
       "version_minor": 0
      },
      "text/plain": [
       "FileUpload(value={}, description='Upload')"
      ]
     },
     "metadata": {},
     "output_type": "display_data"
    }
   ],
   "source": [
    "from ipywidgets import FileUpload\n",
    "upload3 = FileUpload()\n",
    "upload3"
   ]
  },
  {
   "cell_type": "code",
   "execution_count": 24,
   "id": "058b063c-5742-4cf3-8bb0-05deb1073ce6",
   "metadata": {},
   "outputs": [
    {
     "data": {
      "text/plain": [
       "'dumplings'"
      ]
     },
     "execution_count": 24,
     "metadata": {},
     "output_type": "execute_result"
    }
   ],
   "source": [
    "with open(\"demo/image3.jpg\", \"w+b\") as i:\n",
    "    i.write(upload3.data[0])\n",
    "predict_image(\"demo/image3.jpg\")"
   ]
  },
  {
   "cell_type": "code",
   "execution_count": 25,
   "id": "51db1dfc-1421-47f6-89d4-462e5f67ea05",
   "metadata": {},
   "outputs": [
    {
     "data": {
      "application/vnd.jupyter.widget-view+json": {
       "model_id": "a1639a70a1f44ae288a309ca48706dfb",
       "version_major": 2,
       "version_minor": 0
      },
      "text/plain": [
       "FileUpload(value={}, description='Upload')"
      ]
     },
     "metadata": {},
     "output_type": "display_data"
    }
   ],
   "source": [
    "from ipywidgets import FileUpload\n",
    "upload4 = FileUpload()\n",
    "upload4"
   ]
  },
  {
   "cell_type": "code",
   "execution_count": 26,
   "id": "b0ff9f19-2399-4774-9a4b-b6b8ec0b8ddf",
   "metadata": {},
   "outputs": [
    {
     "data": {
      "text/plain": [
       "'french_fries'"
      ]
     },
     "execution_count": 26,
     "metadata": {},
     "output_type": "execute_result"
    }
   ],
   "source": [
    "with open(\"demo/image4.jpg\", \"w+b\") as i:\n",
    "    i.write(upload4.data[0])\n",
    "predict_image(\"demo/image4.jpg\")"
   ]
  },
  {
   "cell_type": "code",
   "execution_count": 27,
   "id": "87886c7e-5a91-459a-b8d9-f2dcd2ee497e",
   "metadata": {},
   "outputs": [
    {
     "data": {
      "application/vnd.jupyter.widget-view+json": {
       "model_id": "fdf8244fa035417aa5eeb70e84a4dff9",
       "version_major": 2,
       "version_minor": 0
      },
      "text/plain": [
       "FileUpload(value={}, description='Upload')"
      ]
     },
     "metadata": {},
     "output_type": "display_data"
    }
   ],
   "source": [
    "from ipywidgets import FileUpload\n",
    "upload5 = FileUpload()\n",
    "upload5"
   ]
  },
  {
   "cell_type": "code",
   "execution_count": 28,
   "id": "0722ecfc-d214-4dbc-a0dc-570738849b8a",
   "metadata": {},
   "outputs": [
    {
     "data": {
      "text/plain": [
       "'guacamole'"
      ]
     },
     "execution_count": 28,
     "metadata": {},
     "output_type": "execute_result"
    }
   ],
   "source": [
    "with open(\"demo/image5.jpg\", \"w+b\") as i:\n",
    "    i.write(upload5.data[0])\n",
    "predict_image(\"demo/image5.jpg\")"
   ]
  },
  {
   "cell_type": "code",
   "execution_count": null,
   "id": "22e274f5-2a45-4ec5-b76f-237ee16ea104",
   "metadata": {},
   "outputs": [],
   "source": []
  }
 ],
 "metadata": {
  "kernelspec": {
   "display_name": "Python 3 (ipykernel)",
   "language": "python",
   "name": "python3"
  },
  "language_info": {
   "codemirror_mode": {
    "name": "ipython",
    "version": 3
   },
   "file_extension": ".py",
   "mimetype": "text/x-python",
   "name": "python",
   "nbconvert_exporter": "python",
   "pygments_lexer": "ipython3",
   "version": "3.7.12"
  }
 },
 "nbformat": 4,
 "nbformat_minor": 5
}
